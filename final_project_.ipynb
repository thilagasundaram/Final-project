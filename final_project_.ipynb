{
  "nbformat": 4,
  "nbformat_minor": 0,
  "metadata": {
    "colab": {
      "provenance": [],
      "authorship_tag": "ABX9TyNdvo1xfkbJG4rUd/zLRVIO",
      "include_colab_link": true
    },
    "kernelspec": {
      "name": "python3",
      "display_name": "Python 3"
    },
    "language_info": {
      "name": "python"
    }
  },
  "cells": [
    {
      "cell_type": "markdown",
      "metadata": {
        "id": "view-in-github",
        "colab_type": "text"
      },
      "source": [
        "<a href=\"https://colab.research.google.com/github/thilagasundaram/Final-project/blob/main/final_project_.ipynb\" target=\"_parent\"><img src=\"https://colab.research.google.com/assets/colab-badge.svg\" alt=\"Open In Colab\"/></a>"
      ]
    },
    {
      "cell_type": "code",
      "execution_count": null,
      "metadata": {
        "id": "OTyGjZCcxcMn"
      },
      "outputs": [],
      "source": [
        "import pandas as pd\n",
        "from sklearn.preprocessing import StandardScaler\n",
        "from sklearn.model_selection import train_test_split\n",
        "from sklearn.linear_model import LogisticRegression\n",
        "from sklearn.svm import SVC\n",
        "from sklearn.metrics import classification_report, accuracy_score\n",
        "import matplotlib.pyplot as plt\n",
        "import seaborn as sns\n",
        "from sklearn.model_selection import GridSearchCV"
      ]
    },
    {
      "cell_type": "markdown",
      "source": [
        "# Loading the dataset\n"
      ],
      "metadata": {
        "id": "9Imo4lj3yNX9"
      }
    },
    {
      "cell_type": "code",
      "source": [
        "# Load the dataset\n",
        "data = pd.read_csv('/content/Maternal Health Risk Data Set.csv')"
      ],
      "metadata": {
        "id": "MU0RrpnGyUuh"
      },
      "execution_count": null,
      "outputs": []
    },
    {
      "cell_type": "markdown",
      "source": [
        "# Datasets"
      ],
      "metadata": {
        "id": "n9nXDeCiyZtO"
      }
    },
    {
      "cell_type": "code",
      "source": [
        "data.shape"
      ],
      "metadata": {
        "colab": {
          "base_uri": "https://localhost:8080/"
        },
        "id": "tTEAYN9iydrJ",
        "outputId": "213b1ba3-d9ea-43d1-f1a0-77949eff5759"
      },
      "execution_count": null,
      "outputs": [
        {
          "output_type": "execute_result",
          "data": {
            "text/plain": [
              "(1014, 7)"
            ]
          },
          "metadata": {},
          "execution_count": 3
        }
      ]
    },
    {
      "cell_type": "code",
      "source": [
        "\n",
        "\n",
        "data.dtypes"
      ],
      "metadata": {
        "colab": {
          "base_uri": "https://localhost:8080/",
          "height": 303
        },
        "id": "ky-2n3VqynRM",
        "outputId": "113251de-f382-4e5d-9d43-357b8532b758"
      },
      "execution_count": null,
      "outputs": [
        {
          "output_type": "execute_result",
          "data": {
            "text/plain": [
              "Age              int64\n",
              "SystolicBP       int64\n",
              "DiastolicBP      int64\n",
              "BS             float64\n",
              "BodyTemp       float64\n",
              "HeartRate        int64\n",
              "RiskLevel       object\n",
              "dtype: object"
            ],
            "text/html": [
              "<table border=\"1\" class=\"dataframe\">\n",
              "  <thead>\n",
              "    <tr style=\"text-align: right;\">\n",
              "      <th></th>\n",
              "      <th>0</th>\n",
              "    </tr>\n",
              "  </thead>\n",
              "  <tbody>\n",
              "    <tr>\n",
              "      <th>Age</th>\n",
              "      <td>int64</td>\n",
              "    </tr>\n",
              "    <tr>\n",
              "      <th>SystolicBP</th>\n",
              "      <td>int64</td>\n",
              "    </tr>\n",
              "    <tr>\n",
              "      <th>DiastolicBP</th>\n",
              "      <td>int64</td>\n",
              "    </tr>\n",
              "    <tr>\n",
              "      <th>BS</th>\n",
              "      <td>float64</td>\n",
              "    </tr>\n",
              "    <tr>\n",
              "      <th>BodyTemp</th>\n",
              "      <td>float64</td>\n",
              "    </tr>\n",
              "    <tr>\n",
              "      <th>HeartRate</th>\n",
              "      <td>int64</td>\n",
              "    </tr>\n",
              "    <tr>\n",
              "      <th>RiskLevel</th>\n",
              "      <td>object</td>\n",
              "    </tr>\n",
              "  </tbody>\n",
              "</table><br><label><b>dtype:</b> object</label>"
            ]
          },
          "metadata": {},
          "execution_count": 4
        }
      ]
    },
    {
      "cell_type": "code",
      "source": [
        "# Display the first few rows of the dataset\n",
        "print(data.head())"
      ],
      "metadata": {
        "colab": {
          "base_uri": "https://localhost:8080/"
        },
        "id": "GskCGqqCyvsC",
        "outputId": "b76c28e0-9d72-4b9d-e8c4-2f044f3150b2"
      },
      "execution_count": null,
      "outputs": [
        {
          "output_type": "stream",
          "name": "stdout",
          "text": [
            "   Age  SystolicBP  DiastolicBP    BS  BodyTemp  HeartRate  RiskLevel\n",
            "0   25         130           80  15.0      98.0         86  high risk\n",
            "1   35         140           90  13.0      98.0         70  high risk\n",
            "2   29          90           70   8.0     100.0         80  high risk\n",
            "3   30         140           85   7.0      98.0         70  high risk\n",
            "4   35         120           60   6.1      98.0         76   low risk\n"
          ]
        }
      ]
    },
    {
      "cell_type": "code",
      "source": [
        "# Display basic information about the dataset\n",
        "print(data.info())"
      ],
      "metadata": {
        "colab": {
          "base_uri": "https://localhost:8080/"
        },
        "id": "ch011EDTy0zo",
        "outputId": "da2c9964-fe4e-41c9-917e-218e94162dee"
      },
      "execution_count": null,
      "outputs": [
        {
          "output_type": "stream",
          "name": "stdout",
          "text": [
            "<class 'pandas.core.frame.DataFrame'>\n",
            "RangeIndex: 1014 entries, 0 to 1013\n",
            "Data columns (total 7 columns):\n",
            " #   Column       Non-Null Count  Dtype  \n",
            "---  ------       --------------  -----  \n",
            " 0   Age          1014 non-null   int64  \n",
            " 1   SystolicBP   1014 non-null   int64  \n",
            " 2   DiastolicBP  1014 non-null   int64  \n",
            " 3   BS           1014 non-null   float64\n",
            " 4   BodyTemp     1014 non-null   float64\n",
            " 5   HeartRate    1014 non-null   int64  \n",
            " 6   RiskLevel    1014 non-null   object \n",
            "dtypes: float64(2), int64(4), object(1)\n",
            "memory usage: 55.6+ KB\n",
            "None\n"
          ]
        }
      ]
    },
    {
      "cell_type": "code",
      "source": [
        "# Check for missing values\n",
        "print(data.isnull().sum())"
      ],
      "metadata": {
        "colab": {
          "base_uri": "https://localhost:8080/"
        },
        "id": "WY_Nk8wDy6ea",
        "outputId": "31cec189-8374-42f3-8c22-c9da5f52cdea"
      },
      "execution_count": null,
      "outputs": [
        {
          "output_type": "stream",
          "name": "stdout",
          "text": [
            "Age            0\n",
            "SystolicBP     0\n",
            "DiastolicBP    0\n",
            "BS             0\n",
            "BodyTemp       0\n",
            "HeartRate      0\n",
            "RiskLevel      0\n",
            "dtype: int64\n"
          ]
        }
      ]
    },
    {
      "cell_type": "code",
      "source": [
        "# Describe the dataset for statistical overview\n",
        "print(data.describe())"
      ],
      "metadata": {
        "colab": {
          "base_uri": "https://localhost:8080/"
        },
        "id": "q-L7JaSjzBx5",
        "outputId": "d3202fe8-185f-492c-b1cf-00d3eae7cea4"
      },
      "execution_count": null,
      "outputs": [
        {
          "output_type": "stream",
          "name": "stdout",
          "text": [
            "               Age   SystolicBP  DiastolicBP           BS     BodyTemp  \\\n",
            "count  1014.000000  1014.000000  1014.000000  1014.000000  1014.000000   \n",
            "mean     29.871795   113.198225    76.460552     8.725986    98.665089   \n",
            "std      13.474386    18.403913    13.885796     3.293532     1.371384   \n",
            "min      10.000000    70.000000    49.000000     6.000000    98.000000   \n",
            "25%      19.000000   100.000000    65.000000     6.900000    98.000000   \n",
            "50%      26.000000   120.000000    80.000000     7.500000    98.000000   \n",
            "75%      39.000000   120.000000    90.000000     8.000000    98.000000   \n",
            "max      70.000000   160.000000   100.000000    19.000000   103.000000   \n",
            "\n",
            "         HeartRate  \n",
            "count  1014.000000  \n",
            "mean     74.301775  \n",
            "std       8.088702  \n",
            "min       7.000000  \n",
            "25%      70.000000  \n",
            "50%      76.000000  \n",
            "75%      80.000000  \n",
            "max      90.000000  \n"
          ]
        }
      ]
    },
    {
      "cell_type": "markdown",
      "source": [
        "# Data Preprocessing"
      ],
      "metadata": {
        "id": "_Msh7DB1zHoE"
      }
    },
    {
      "cell_type": "code",
      "source": [
        "# Check for missing values\n",
        "print(\"Missing values:\\n\", data.isnull().sum())"
      ],
      "metadata": {
        "colab": {
          "base_uri": "https://localhost:8080/"
        },
        "id": "1PmMqGuNzIuH",
        "outputId": "1c590a65-e95b-43f5-f440-7eb563b70a3b"
      },
      "execution_count": null,
      "outputs": [
        {
          "output_type": "stream",
          "name": "stdout",
          "text": [
            "Missing values:\n",
            " Age            0\n",
            "SystolicBP     0\n",
            "DiastolicBP    0\n",
            "BS             0\n",
            "BodyTemp       0\n",
            "HeartRate      0\n",
            "RiskLevel      0\n",
            "dtype: int64\n"
          ]
        }
      ]
    },
    {
      "cell_type": "code",
      "source": [
        "# Handle missing values\n",
        "data = data.dropna()"
      ],
      "metadata": {
        "id": "tvRSsT9czaF3"
      },
      "execution_count": null,
      "outputs": []
    },
    {
      "cell_type": "code",
      "source": [
        "# Handle outliers (e.g., using IQR)\n",
        "numerical_cols = ['Age', 'SystolicBP', 'DiastolicBP', 'BS', 'BodyTemp', 'HeartRate']\n",
        "Q1 = data[numerical_cols].quantile(0.25)\n",
        "Q3 = data[numerical_cols].quantile(0.75)\n",
        "IQR = Q3 - Q1"
      ],
      "metadata": {
        "id": "BUQYgZEHzhHZ"
      },
      "execution_count": null,
      "outputs": []
    },
    {
      "cell_type": "code",
      "source": [],
      "metadata": {
        "id": "-7-L9qhm0Pj8"
      },
      "execution_count": null,
      "outputs": []
    },
    {
      "cell_type": "code",
      "source": [
        "# Only apply the filtering to numerical columns\n",
        "outlier_condition = ~((data[numerical_cols] < (Q1 - 1.5 * IQR)) | (data[numerical_cols] > (Q3 + 1.5 * IQR))).any(axis=1)\n",
        "data = data[outlier_condition]"
      ],
      "metadata": {
        "id": "9bJjwfBjzlHJ"
      },
      "execution_count": null,
      "outputs": []
    },
    {
      "cell_type": "code",
      "source": [
        "# Check the number of records after outlier removal\n",
        "print(f\"Number of records after outlier removal: {data.shape[0]}\")"
      ],
      "metadata": {
        "colab": {
          "base_uri": "https://localhost:8080/"
        },
        "id": "Q3Bx3v2gzrf_",
        "outputId": "f4faff48-7b82-40a1-87db-a6f035e13dde"
      },
      "execution_count": null,
      "outputs": [
        {
          "output_type": "stream",
          "name": "stdout",
          "text": [
            "Number of records after outlier removal: 620\n"
          ]
        }
      ]
    },
    {
      "cell_type": "code",
      "source": [
        "# Normalize the numerical features\n",
        "scaler = StandardScaler()\n",
        "data[numerical_cols] = scaler.fit_transform(data[numerical_cols])"
      ],
      "metadata": {
        "id": "K-tW7kFt0Lq9"
      },
      "execution_count": null,
      "outputs": []
    },
    {
      "cell_type": "code",
      "source": [
        "# Display the first few rows of the preprocessed dataset\n",
        "print(data.head())"
      ],
      "metadata": {
        "colab": {
          "base_uri": "https://localhost:8080/"
        },
        "id": "XqNXjq1K0Si6",
        "outputId": "3022cbee-610a-4557-b2bd-5dad9a69cf65"
      },
      "execution_count": null,
      "outputs": [
        {
          "output_type": "stream",
          "name": "stdout",
          "text": [
            "        Age  SystolicBP  DiastolicBP        BS  BodyTemp  HeartRate  RiskLevel\n",
            "3  0.179124    1.687410     0.729557 -0.279687       0.0  -0.466324  high risk\n",
            "4  0.594444    0.496388    -1.165238 -1.863948       0.0   0.463325   low risk\n",
            "5 -0.402325    1.687410     0.350598 -0.262084       0.0  -0.466324  high risk\n",
            "6 -0.402325    1.091899    -0.407320 -0.262084       0.0   0.773208   mid risk\n",
            "8  0.345252    0.496388     1.108517 -0.455716       0.0  -0.466324   mid risk\n"
          ]
        }
      ]
    },
    {
      "cell_type": "markdown",
      "source": [
        "# Exploratory Data Analysis (EDA)"
      ],
      "metadata": {
        "id": "_QbZ9PT10XDP"
      }
    },
    {
      "cell_type": "code",
      "source": [
        "# Plot histograms for each feature\n",
        "data.hist(figsize=(12, 10))\n",
        "plt.show()"
      ],
      "metadata": {
        "colab": {
          "base_uri": "https://localhost:8080/",
          "height": 853
        },
        "id": "OJBeplIU0YYX",
        "outputId": "fa161e50-467b-4a4f-e73d-c3b99cd8f921"
      },
      "execution_count": null,
      "outputs": [
        {
          "output_type": "display_data",
          "data": {
            "text/plain": [
              "<Figure size 1200x1000 with 6 Axes>"
            ],
            "image/png": "[encoded data removed]"
          },
          "metadata": {}
        }
      ]
    },
    {
      "cell_type": "code",
      "source": [
        "# Calculate correlation matrix for numerical columns only\n",
        "correlation_matrix = data[numerical_cols].corr()"
      ],
      "metadata": {
        "id": "kjf8E5QD0gA9"
      },
      "execution_count": null,
      "outputs": []
    },
    {
      "cell_type": "code",
      "source": [
        "# Plot correlation matrix\n",
        "plt.figure(figsize=(10, 8))\n",
        "sns.heatmap(correlation_matrix, annot=True, cmap='coolwarm')\n",
        "plt.show()"
      ],
      "metadata": {
        "colab": {
          "base_uri": "https://localhost:8080/",
          "height": 682
        },
        "id": "TlUFfqL10lvr",
        "outputId": "19d826fe-23bc-43c0-e9d9-f797548cb4d3"
      },
      "execution_count": null,
      "outputs": [
        {
          "output_type": "display_data",
          "data": {
            "text/plain": [
              "<Figure size 1000x800 with 2 Axes>"
            ],
            "image/png": "[encoded data removed]"
          },
          "metadata": {}
        }
      ]
    },
    {
      "cell_type": "code",
      "source": [
        "# Plot risk level distribution\n",
        "plt.figure(figsize=(6, 4))\n",
        "sns.countplot(x='RiskLevel', data=data)\n",
        "plt.show()"
      ],
      "metadata": {
        "colab": {
          "base_uri": "https://localhost:8080/",
          "height": 388
        },
        "id": "8pZKbsaj0vz_",
        "outputId": "dcbab690-7ebf-4537-cf65-cdfc868d4763"
      },
      "execution_count": null,
      "outputs": [
        {
          "output_type": "display_data",
          "data": {
            "text/plain": [
              "<Figure size 600x400 with 1 Axes>"
            ],
            "image/png": "[encoded data removed]"
          },
          "metadata": {}
        }
      ]
    },
    {
      "cell_type": "markdown",
      "source": [
        "# Feature Engineering"
      ],
      "metadata": {
        "id": "cqY-E33o02Ex"
      }
    },
    {
      "cell_type": "code",
      "source": [
        "# Create interaction terms (example)\n",
        "data['Age_SystolicBP'] = data['Age'] * data['SystolicBP']\n",
        "data['Age_DiastolicBP'] = data['Age'] * data['DiastolicBP']"
      ],
      "metadata": {
        "id": "samnb98903iT"
      },
      "execution_count": null,
      "outputs": []
    },
    {
      "cell_type": "code",
      "source": [
        "# Polynomial features\n",
        "data['Age_squared'] = data['Age'] ** 2"
      ],
      "metadata": {
        "id": "lf4Eoj2G08DG"
      },
      "execution_count": null,
      "outputs": []
    },
    {
      "cell_type": "code",
      "source": [
        "# Binning continuous variables\n",
        "data['Age_binned'] = pd.cut(data['Age'], bins=5, labels=False)"
      ],
      "metadata": {
        "id": "DnJz84y60_-Z"
      },
      "execution_count": null,
      "outputs": []
    },
    {
      "cell_type": "code",
      "source": [
        "# Display the first few rows of the dataset with new features\n",
        "print(data.head())"
      ],
      "metadata": {
        "colab": {
          "base_uri": "https://localhost:8080/"
        },
        "id": "sMy2LzdD1IZa",
        "outputId": "b1f98afe-5aac-4135-fbbd-376c76f66f27"
      },
      "execution_count": null,
      "outputs": [
        {
          "output_type": "stream",
          "name": "stdout",
          "text": [
            "        Age  SystolicBP  DiastolicBP        BS  BodyTemp  HeartRate  \\\n",
            "3  0.179124    1.687410     0.729557 -0.279687       0.0  -0.466324   \n",
            "4  0.594444    0.496388    -1.165238 -1.863948       0.0   0.463325   \n",
            "5 -0.402325    1.687410     0.350598 -0.262084       0.0  -0.466324   \n",
            "6 -0.402325    1.091899    -0.407320 -0.262084       0.0   0.773208   \n",
            "8  0.345252    0.496388     1.108517 -0.455716       0.0  -0.466324   \n",
            "\n",
            "   RiskLevel  Age_SystolicBP  Age_DiastolicBP  Age_squared  Age_binned  \n",
            "3  high risk        0.302255         0.130681     0.032085           1  \n",
            "4   low risk        0.295075        -0.692669     0.353363           2  \n",
            "5  high risk       -0.678887        -0.141054     0.161865           1  \n",
            "6   mid risk       -0.439298         0.163875     0.161865           1  \n",
            "8   mid risk        0.171379         0.382717     0.119199           1  \n"
          ]
        }
      ]
    },
    {
      "cell_type": "markdown",
      "source": [
        "# Model Building"
      ],
      "metadata": {
        "id": "eEhigCqz1SUT"
      }
    },
    {
      "cell_type": "code",
      "source": [],
      "metadata": {
        "id": "1k0UD0031N_j"
      },
      "execution_count": null,
      "outputs": []
    },
    {
      "cell_type": "code",
      "source": [
        "# Split the data\n",
        "X = data.drop('RiskLevel', axis=1)\n",
        "y = data['RiskLevel']\n",
        "X_train, X_test, y_train, y_test = train_test_split(X, y, test_size=0.2, random_state=42)"
      ],
      "metadata": {
        "id": "M0Kq_SK71Tjx"
      },
      "execution_count": null,
      "outputs": []
    },
    {
      "cell_type": "code",
      "source": [
        "# Logistic Regression\n",
        "logreg = LogisticRegression(max_iter=1000)\n",
        "logreg.fit(X_train, y_train)\n",
        "y_pred_logreg = logreg.predict(X_test)\n",
        "print(\"Logistic Regression:\\n\", classification_report(y_test, y_pred_logreg))\n",
        "print(\"Accuracy:\", accuracy_score(y_test, y_pred_logreg))"
      ],
      "metadata": {
        "colab": {
          "base_uri": "https://localhost:8080/"
        },
        "id": "8gXHSJcV1saM",
        "outputId": "9aeeb4c1-5b66-44e7-80a0-9b56dfea3ea9"
      },
      "execution_count": null,
      "outputs": [
        {
          "output_type": "stream",
          "name": "stdout",
          "text": [
            "Logistic Regression:\n",
            "               precision    recall  f1-score   support\n",
            "\n",
            "   high risk       1.00      0.64      0.78        11\n",
            "    low risk       0.58      0.95      0.72        64\n",
            "    mid risk       0.67      0.16      0.26        49\n",
            "\n",
            "    accuracy                           0.61       124\n",
            "   macro avg       0.75      0.58      0.59       124\n",
            "weighted avg       0.65      0.61      0.55       124\n",
            "\n",
            "Accuracy: 0.6129032258064516\n"
          ]
        }
      ]
    },
    {
      "cell_type": "code",
      "source": [
        "# Support Vector Classifier\n",
        "svc = SVC()\n",
        "svc.fit(X_train, y_train)\n",
        "y_pred_svc = svc.predict(X_test)\n",
        "print(\"Support Vector Classifier:\\n\", classification_report(y_test, y_pred_svc))\n",
        "print(\"Accuracy:\", accuracy_score(y_test, y_pred_svc))"
      ],
      "metadata": {
        "colab": {
          "base_uri": "https://localhost:8080/"
        },
        "id": "NP9vKvYR1zho",
        "outputId": "dddcf845-857c-4254-fd32-b9f02cf2d4e8"
      },
      "execution_count": null,
      "outputs": [
        {
          "output_type": "stream",
          "name": "stdout",
          "text": [
            "Support Vector Classifier:\n",
            "               precision    recall  f1-score   support\n",
            "\n",
            "   high risk       1.00      0.64      0.78        11\n",
            "    low risk       0.59      0.97      0.73        64\n",
            "    mid risk       0.67      0.16      0.26        49\n",
            "\n",
            "    accuracy                           0.62       124\n",
            "   macro avg       0.75      0.59      0.59       124\n",
            "weighted avg       0.66      0.62      0.55       124\n",
            "\n",
            "Accuracy: 0.6209677419354839\n"
          ]
        }
      ]
    },
    {
      "cell_type": "code",
      "source": [],
      "metadata": {
        "id": "6LlIL29U2AKe"
      },
      "execution_count": null,
      "outputs": []
    },
    {
      "cell_type": "markdown",
      "source": [
        "# Model evaluvation and selection"
      ],
      "metadata": {
        "id": "e5jn_jLa2EC-"
      }
    },
    {
      "cell_type": "code",
      "source": [
        "# Compare models based on accuracy or other metrics\n",
        "from sklearn.model_selection import GridSearchCV"
      ],
      "metadata": {
        "id": "4hTgo6Z12GAy"
      },
      "execution_count": null,
      "outputs": []
    },
    {
      "cell_type": "code",
      "source": [
        "param_grid = {'C': [0.1, 1, 10, 100], 'solver': ['liblinear']}\n",
        "grid_search = GridSearchCV(LogisticRegression(max_iter=1000), param_grid, cv=5, scoring='accuracy')\n",
        "grid_search.fit(X_train, y_train)\n",
        "best_logreg = grid_search.best_estimator_"
      ],
      "metadata": {
        "id": "5vNuE6bg2rbb"
      },
      "execution_count": null,
      "outputs": []
    },
    {
      "cell_type": "code",
      "source": [
        "# Evaluate the fine-tuned model\n",
        "y_pred_best_logreg = best_logreg.predict(X_test)\n",
        "print(\"Fine-tuned Logistic Regression:\\n\", classification_report(y_test, y_pred_best_logreg))\n",
        "print(\"Accuracy:\", accuracy_score(y_test, y_pred_best_logreg))"
      ],
      "metadata": {
        "colab": {
          "base_uri": "https://localhost:8080/"
        },
        "id": "2oG5hh-p2UM7",
        "outputId": "0ac07dff-6cd5-435f-d22c-4a4b0b474dbb"
      },
      "execution_count": null,
      "outputs": [
        {
          "output_type": "stream",
          "name": "stdout",
          "text": [
            "Fine-tuned Logistic Regression:\n",
            "               precision    recall  f1-score   support\n",
            "\n",
            "   high risk       1.00      0.45      0.62        11\n",
            "    low risk       0.58      0.94      0.71        64\n",
            "    mid risk       0.53      0.16      0.25        49\n",
            "\n",
            "    accuracy                           0.59       124\n",
            "   macro avg       0.70      0.52      0.53       124\n",
            "weighted avg       0.60      0.59      0.52       124\n",
            "\n",
            "Accuracy: 0.5887096774193549\n"
          ]
        }
      ]
    },
    {
      "cell_type": "code",
      "source": [],
      "metadata": {
        "id": "FkwtMGfo2pgy"
      },
      "execution_count": null,
      "outputs": []
    }
  ]
}